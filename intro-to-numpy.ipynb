{
 "cells": [
  {
   "cell_type": "markdown",
   "metadata": {},
   "source": [
    "# Let's learn some NumPy!\n",
    "\n",
    "#### <font color=\"blue\">Okay, but I know some Python, what's this other stuff you want me to learn?</font>\n",
    "\n",
    "NumPy is a multidimensional array manipulation toolkit containing numerous high-performance functions to make your life as easy as possible!\n",
    "\n",
    "Aka: It does fun mathy-math stuff so my brain doesn't have to always go BRRRR, but instead just go brrrrr.\n",
    "\n",
    "## Let's install it!\n",
    "\n",
    "To install NumPy, there are just two simple steps:\n",
    "\n",
    "1. Run `python -m pip install numpy` or `python3 -m pip install numpy` (depending on what command you use to open up python.\n",
    "    - If you are using Colab, you can just run `!python3 -m pip install numpy` in a code block, as so:"
   ]
  },
  {
   "cell_type": "code",
   "execution_count": null,
   "metadata": {},
   "outputs": [],
   "source": [
    "!python3 -m pip install numpy"
   ]
  },
  {
   "cell_type": "markdown",
   "metadata": {},
   "source": [
    "## What is NumPy?\n",
    "\n",
    "NumPy is a Python library that adds support for massive multidimensional arrays along with vectorizable mathematical operations and tools for manipulating the aformentioned arrays."
   ]
  },
  {
   "cell_type": "markdown",
   "metadata": {},
   "source": [
    "#### So I keep hearing about these things called arrays. What are they?\n",
    "\n",
    "Great question!\n",
    "\n",
    "Remember lists are a built-in part of Python.\n",
    "\n",
    "All of these following statements will return a `list` object."
   ]
  },
  {
   "cell_type": "markdown",
   "metadata": {},
   "source": [
    "The `list` function provides an easy way to cast objects to a list, though to be honest, it's not that commonly used.\n",
    "In this case, we are casting a `tuple` to a `list`."
   ]
  },
  {
   "cell_type": "code",
   "execution_count": null,
   "metadata": {},
   "outputs": [],
   "source": [
    "a = list((1, 2, 3))\n",
    "\n",
    "print(a)"
   ]
  },
  {
   "cell_type": "markdown",
   "metadata": {},
   "source": [
    "What we have here is an empty `list`. These can be made by simply putting a pair of square brackets, like above (`[]`)."
   ]
  },
  {
   "cell_type": "code",
   "execution_count": null,
   "metadata": {},
   "outputs": [],
   "source": [
    "a = []\n",
    "\n",
    "print(a)"
   ]
  },
  {
   "cell_type": "markdown",
   "metadata": {},
   "source": [
    "To pre-populate a list, we can just place all the elements between the square brackets and delimit them with commas."
   ]
  },
  {
   "cell_type": "code",
   "execution_count": null,
   "metadata": {},
   "outputs": [],
   "source": [
    "a = [1, 2, 3, 4]\n",
    "\n",
    "print(a)"
   ]
  },
  {
   "cell_type": "markdown",
   "metadata": {},
   "source": [
    "`str` objects are also nice because they cast super well to a `list`. However, `str` objects are indexable themselves, so the only real time you'd really use a `list` is for mutability (the ability to change elements of the list)."
   ]
  },
  {
   "cell_type": "code",
   "execution_count": null,
   "metadata": {},
   "outputs": [],
   "source": [
    "a = list(\"hello!\")\n",
    "\n",
    "print(a)"
   ]
  },
  {
   "cell_type": "markdown",
   "metadata": {},
   "source": [
    "Oooh! Here's `list` comprehension, probably one of my favorite parts of Python!\n",
    "\n",
    "By saying `[i**2 for i in range(20)]`, a `list` of the values computed by `i**2` is outputted into a `list` with `i` values from `0` to `19`."
   ]
  },
  {
   "cell_type": "code",
   "execution_count": null,
   "metadata": {},
   "outputs": [],
   "source": [
    "a = [i**2 for i in range(20)]\n",
    "\n",
    "print(a)"
   ]
  },
  {
   "cell_type": "markdown",
   "metadata": {},
   "source": [
    "Here's the last one!\n",
    "\n",
    "Our handy-dandy `list.append` method.\n",
    "\n",
    "If you have a `list` and want to plop something onto the end, you can take the `list` and just use its `append` method."
   ]
  },
  {
   "cell_type": "code",
   "execution_count": null,
   "metadata": {},
   "outputs": [],
   "source": [
    "a = [1, 2, 3, 4]\n",
    "\n",
    "# Our friend 5 has accidentally got themselves kicked off the list, so we want to add them back to complete the friend group\n",
    "a.append(5)\n",
    "\n",
    "print(a)\n",
    "\n",
    "# In the words of Dr. Wheeler: \"Viola!\""
   ]
  },
  {
   "cell_type": "markdown",
   "metadata": {},
   "source": [
    "### Smh Arvin, you're getting distracted again. What are arrays???\n",
    "\n",
    "Oh shoot, I totally forgot, yes, arrays.\n",
    "\n",
    "So, as you can see with the `list` examples above, `list` objects are designed to store a varying number of items of varying types, but often in one-dimension.\n",
    "\n",
    "On the othe hand, arrays are typically only used for a single datatype, typically called a dtype, for objects with certain multidimensional shapes.\n",
    "It might sound horribly constrained, but in actuality, it's highly useful and modular, so let's dive in!\n",
    "\n",
    "Uhh, Arvin, you never explained how to use NumPy though. i mean, I downloaded it, is there something I need to do to access it?\n",
    "\n",
    "Good question and I'll explain it right now!\n",
    "\n",
    "## 1.1 Importing!\n",
    "\n",
    "First, with the `import` keyword directly:\n",
    "\n",
    "<img alt=\"<font style='color: blue;'>import</font> <font style='color: green;'>*module*</font> <font style='color: blue;'>as</font> <font style='color: purple;'>*name*</font>\" src=\"assets/import_structure.png\" width=\"500px\"/>\n",
    "\n",
    "* The green `module` is where you put the name of the module you want to import. Remember, it has to be a module. You can't directly import a method like this. You'd have to use `from`.\n",
    "\n",
    "* The blue `import` and `as` are keywords. `import` is required, but `as` is only used if you want to give it a \"name.\"\n",
    "\n",
    "* The purple `name` is optional. You don't have to rename it.\n",
    "\n",
    "The other way to import things is with the `from` keyword.\n",
    "\n",
    "<img alt=\"Structure of the from keyword\" src=\"assets/from_structure.png\" width=\"500px\"/>\n",
    "\n",
    "* The blue `from` and `import` keywords are both required. The `as` keyword can be incorporated, but it's pretty rare.\n",
    "\n",
    "* The green `module` is where you put the name of the module you are importing from.\n",
    "\n",
    "* The purple section is what exactly you're importing. For example, `*` would import everything into the current namespace, `thing` would import just the `thing`, and `(thing1, thing2)` would import both `thing1` and `thing2`\n",
    "\n",
    "Notes: You can use `as` with the `from` keyword like so: `from <module> import <thing1> as <abbreviation>`.\n",
    "Also, the different between `import` and `from` is as such:\n",
    "\n",
    "If you use `import numpy.linalg', then to access `numpy.linalg.norm()`, you will need to type the whole thing out.\n",
    "\n",
    "On the other hand...\n",
    "\n",
    "If you use `from numpy.linalg import norm`, then to access `numpy.linalg.norm()`, I can just say `norm`.\n",
    "\n",
    "However, `from` statements can be dangerous. If you do it wrong, you might unintentially overwrite a current method or variable.\n",
    "\n",
    "#### Let's try importing NumPy now!"
   ]
  },
  {
   "cell_type": "code",
   "execution_count": null,
   "metadata": {},
   "outputs": [],
   "source": [
    "import numpy as np # owo, see the import keyword? That's how we access NumPy. If you see an error, now is the time to let me know :)"
   ]
  },
  {
   "cell_type": "markdown",
   "metadata": {},
   "source": [
    "- Wait? That's all it took?\n",
    "\n",
    "    - Yeah! Python is an extremely modular and extensible language, and importing is literally easier than breathing.\n",
    "\n",
    "\n",
    "- What's the `np` represent?\n",
    "\n",
    "    - Well `np` is a commonly used abbreviation for NumPy throughout the Python community. You can import it however you'd like, but `np` is recognizable to pretty much everyone."
   ]
  },
  {
   "cell_type": "markdown",
   "metadata": {},
   "source": [
    "## 1.2 Initializing Arrays\n",
    "\n",
    "Thankfully, arrays are super simple to make and NumPy provides NUMEROUS methods to initialize them!\n",
    "\n",
    "So, let's get started!"
   ]
  },
  {
   "cell_type": "markdown",
   "metadata": {},
   "source": [
    "NumPy provides the `np.array()` method, which honestly, seems to resemble the `list` command. Let's try it out!"
   ]
  },
  {
   "cell_type": "code",
   "execution_count": null,
   "metadata": {},
   "outputs": [],
   "source": [
    "a = np.array([[1, 2], [3, 4]])\n",
    "\n",
    "print(a)"
   ]
  },
  {
   "cell_type": "markdown",
   "metadata": {},
   "source": [
    "So, as you can see, we sent a two-dimensional list as an input to the `np.array` function, which then converted the `list` to an `np.ndarray` object.\n",
    "\n",
    "$\\begin{bmatrix}\n",
    "1 & 2\\\\\n",
    "3 & 4\n",
    "\\end{bmatrix} \\rightarrow$ `np.ndarray`\n",
    "\n",
    "What's an `ndarray`? Well, it's short for n-dimensional array and it pretty much just a nod to the multidimensional capabilities of NumPy.\n",
    "\n",
    "\n",
    "\n",
    "Interestingly, the array we made prints like \n",
    "\n",
    "```[[1 2] \n",
    " [3 4]]```\n",
    "\n",
    "instead of \n",
    "```[1, 2, 3, 4]``` \n",
    "\n",
    "Anyone have any idea why that is?\n",
    "\n",
    "\n",
    "Okay, well, let's see how else we can initialize an array.\n",
    "\n",
    "NumPy provides these methods:\n",
    "\n",
    "* `np.array`\n",
    "* `np.zeros`\n",
    "* `np.ones`\n",
    "* `np.empty`\n",
    "* `np.arange` and `np.linspace`\n",
    "* `np.zeros_like`, `np.ones_like`, `np.empty_like`\n",
    "* `np.random.*`\n",
    "\n",
    "So, let's test out a few of these! I'll start out with `np.zeros` but, feel free to play around!"
   ]
  },
  {
   "cell_type": "code",
   "execution_count": null,
   "metadata": {},
   "outputs": [],
   "source": [
    "np.zeros((4, 4, 3)) # The shape of the array is the input to the function."
   ]
  },
  {
   "cell_type": "markdown",
   "metadata": {},
   "source": [
    "## 1.3 Indexing & Slicing\n",
    "\n",
    "Okay, in my opinion, this is probably the most confusing section of this entire thing, so I'm gonna just rip off the bandaid, but with soapy water so it hurts less.\n",
    "\n",
    "Put simply, indexing and slicing are ways of extracting subsets of an array. It is, fundamentally, a very simple idea, but thinking about it in multiple dimensions can take some mental fortitude.\n",
    "\n",
    "### 1.3.1 Indexing\n",
    "\n",
    "If you're familiar with Python or went to our last lecture, you have some familiarity with indexing in lists. For a quick recap:\n",
    "\n",
    "* Indexing is done using bracket notation.\n",
    "* Indexing starts at 0\n",
    "* Indexing multiple dimensions can be done using multiple bracket pairs.\n",
    "\n",
    "With indexing in NumPy, approximately the same rules still apply!\n",
    "\n",
    "One notable difference is that NumPy prefers slightly different notation. It is encouraged to represent multiple dimensional indices with a list of numbers rather than individual bracket pairs.\n",
    "\n",
    "Let's try them out."
   ]
  },
  {
   "cell_type": "code",
   "execution_count": null,
   "metadata": {},
   "outputs": [],
   "source": [
    "x = np.array([\n",
    "    [1, 2, 3, 4, 5],\n",
    "    [2, 3, 4, 5, 6],\n",
    "    [3, 4, 5, 6, 7],\n",
    "    [4, 5, 6, 7, 8],\n",
    "    [5, 6, 7, 8, 9]\n",
    "])\n",
    "\n",
    "print(x)\n",
    "\n",
    "# What do you think x[0] will be?\n",
    "\n",
    "print(x[0])\n",
    "\n",
    "# How about x[0, 0]\n",
    "print(x[][0])"
   ]
  },
  {
   "cell_type": "markdown",
   "metadata": {},
   "source": [
    "### 1.3.2 Slicing\n",
    "\n",
    "Slicing "
   ]
  }
 ],
 "metadata": {
  "kernelspec": {
   "display_name": "Python 3",
   "language": "python",
   "name": "python3"
  },
  "language_info": {
   "codemirror_mode": {
    "name": "ipython",
    "version": 3
   },
   "file_extension": ".py",
   "mimetype": "text/x-python",
   "name": "python",
   "nbconvert_exporter": "python",
   "pygments_lexer": "ipython3",
   "version": "3.7.6"
  }
 },
 "nbformat": 4,
 "nbformat_minor": 4
}
