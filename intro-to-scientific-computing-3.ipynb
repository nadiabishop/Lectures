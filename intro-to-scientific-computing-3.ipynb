{
 "cells": [
  {
   "cell_type": "markdown",
   "metadata": {},
   "source": [
    "# Introduction to Scientific Computing III\n",
    "\n",
    "Last week, we did a gentle introduction to various mathematical functions with SciPy and data munging in Pandas.\n",
    "\n",
    "This week, we're learning visualization with another scientific computing library:\n",
    "\n",
    "[**Matplotlib**](https://matplotlib.org/contents.html) - A library for creating static, animated, and interactive visualizations with Python."
   ]
  },
  {
   "cell_type": "code",
   "execution_count": null,
   "metadata": {},
   "outputs": [],
   "source": []
  }
 ],
 "metadata": {
  "kernelspec": {
   "display_name": "Python 3",
   "language": "python",
   "name": "python3"
  },
  "language_info": {
   "codemirror_mode": {
    "name": "ipython",
    "version": 3
   },
   "file_extension": ".py",
   "mimetype": "text/x-python",
   "name": "python",
   "nbconvert_exporter": "python",
   "pygments_lexer": "ipython3",
   "version": "3.7.4"
  }
 },
 "nbformat": 4,
 "nbformat_minor": 2
}
