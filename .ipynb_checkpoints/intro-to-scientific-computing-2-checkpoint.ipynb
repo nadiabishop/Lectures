{
 "cells": [
  {
   "cell_type": "markdown",
   "metadata": {},
   "source": [
    "# Introduction to Scientific Computing II\n",
    "\n",
    "Last week, we did a gentle introduction to manipulating n-dimensional arrays using the NumPy library.\n",
    "\n",
    "This week, we're learning about a couple more important scientific computing libraries:\n",
    "\n",
    "[**SciPy**](https://docs.scipy.org/doc/scipy/reference/) - SciPy is a collection of mathematical algorithms and utility functions built on the NumPy library. We will look at some, but not all, of the SciPy subpackages including: `spatial`, `sparse`, `stats`, and `linalg`. \n",
    "\n",
    "[**Pandas**](https://pandas.pydata.org/docs/user_guide/index.html) - From the website: *fast, flexible, and expressive data structures designed to make working with “relational” or “labeled” data both easy and intuitive.* It's a powerful tool for doing \"real world\" data munging and analysis."
   ]
  },
  {
   "cell_type": "markdown",
   "metadata": {},
   "source": [
    "#### Import the Packages"
   ]
  },
  {
   "cell_type": "code",
   "execution_count": null,
   "metadata": {},
   "outputs": [],
   "source": [
    "from scipy import *\n",
    "import pandas as pd"
   ]
  },
  {
   "cell_type": "markdown",
   "metadata": {},
   "source": [
    "## SciPy\n",
    "\n",
    "First up, SciPy!"
   ]
  },
  {
   "cell_type": "markdown",
   "metadata": {},
   "source": [
    "### Spatial `scipy.spatial`"
   ]
  },
  {
   "cell_type": "markdown",
   "metadata": {},
   "source": [
    "#### Distance Computations `scipy.spatial.distance`\n",
    "\n",
    "Let's import in our stuff!"
   ]
  },
  {
   "cell_type": "code",
   "execution_count": null,
   "metadata": {},
   "outputs": [],
   "source": [
    "from scipy.spatial.distance import pdist, cdist, cityblock, euclidean, cosine, jensenshannon, minkowski"
   ]
  },
  {
   "cell_type": "markdown",
   "metadata": {},
   "source": [
    "You know what I love about SciPy? It's wonderful documentation!\n",
    "\n",
    "Using the documentation, we can find the equations for these distances!\n",
    "\n",
    "##### `scipy.spatial.distance.cityblock` - https://docs.scipy.org/doc/scipy/reference/generated/scipy.spatial.distance.cityblock.html\n",
    "\n",
    "![](assets/cityblock.jpg)\n",
    "\n",
    "##### `scipy.spatial.distance.euclidean` - https://docs.scipy.org/doc/scipy/reference/generated/scipy.spatial.distance.euclidean.html\n",
    "\n",
    "![](assets/euclidean.jpg)\n",
    "\n",
    "##### `scipy.spatial.distance.euclidean` - https://docs.scipy.org/doc/scipy/reference/generated/scipy.spatial.distance.cosine.html\n",
    "\n",
    "![](assets/cosine.jpg)\n",
    "\n",
    "##### `scipy.spatial.distance.jensenshannon` - https://docs.scipy.org/doc/scipy/reference/generated/scipy.spatial.distance.jensenshannon.html\n",
    "\n",
    "![](assets/jensenshannon.jpg)\n",
    "\n",
    "##### `scipy.spatial.distance.minkowski` - https://docs.scipy.org/doc/scipy/reference/generated/scipy.spatial.distance.minkowski.html\n",
    "\n",
    "![](assets/minkowski.jpg)"
   ]
  },
  {
   "cell_type": "code",
   "execution_count": 17,
   "metadata": {},
   "outputs": [],
   "source": [
    "# Magical Testing Area"
   ]
  },
  {
   "cell_type": "markdown",
   "metadata": {},
   "source": [
    "### Sparse Matrices `scipy.sparse`\n",
    "\n",
    "Consider the following example: You go shopping at Wal-Mart and only have 3 small items you plan on buying. Would it be better to take a large cart or just a small basket? You're right! The small basket, because then you save space!\n",
    "\n",
    "Similarly, with spare matrices, we can get store only what we need to, our non-zero values!\n",
    "\n",
    "![](assets/sparsevsdense.png)\n",
    "\n",
    "Usually, there are multiple formats of sparse matrixes that can be used for different things, but tbh, it's not that big of a deal.\n",
    "\n",
    "Here's some things you can do with sparse matrices:\n",
    "\n",
    "- Create graph representations and compute graph characteristics\n",
    "- Liear Algebra \\[covering later\\]"
   ]
  },
  {
   "cell_type": "code",
   "execution_count": 22,
   "metadata": {},
   "outputs": [
    {
     "data": {
      "text/plain": [
       "array([[ 0.,  4., 12., 19., 21., 11.,  9.,  8., 14.],\n",
       "       [ 4.,  0.,  8., 15., 22., 12., 12., 11., 10.],\n",
       "       [12.,  8.,  0.,  7., 14.,  4.,  6.,  7.,  2.],\n",
       "       [19., 15.,  7.,  0.,  9., 11., 13., 14.,  9.],\n",
       "       [21., 22., 14.,  9.,  0., 10., 12., 13., 16.],\n",
       "       [11., 12.,  4., 11., 10.,  0.,  2.,  3.,  6.],\n",
       "       [ 9., 12.,  6., 13., 12.,  2.,  0.,  1.,  6.],\n",
       "       [ 8., 11.,  7., 14., 13.,  3.,  1.,  0.,  7.],\n",
       "       [14., 10.,  2.,  9., 16.,  6.,  6.,  7.,  0.]])"
      ]
     },
     "execution_count": 22,
     "metadata": {},
     "output_type": "execute_result"
    }
   ],
   "source": [
    "from scipy.sparse.csgraph import dijkstra\n",
    "\n",
    "dijkstra([[0, 4, 0, 0, 0, 0, 0, 8, 0], \n",
    "        [4, 0, 8, 0, 0, 0, 0, 11, 0], \n",
    "        [0, 8, 0, 7, 0, 4, 0, 0, 2], \n",
    "        [0, 0, 7, 0, 9, 14, 0, 0, 0], \n",
    "        [0, 0, 0, 9, 0, 10, 0, 0, 0], \n",
    "        [0, 0, 4, 14, 10, 0, 2, 0, 0], \n",
    "        [0, 0, 0, 0, 0, 2, 0, 1, 6], \n",
    "        [8, 11, 0, 0, 0, 0, 1, 0, 7], \n",
    "        [0, 0, 2, 0, 0, 0, 6, 7, 0] \n",
    "        ])"
   ]
  },
  {
   "cell_type": "markdown",
   "metadata": {},
   "source": [
    "### Statistical Functions `scipy.stats`\n",
    "\n",
    "Yay! So this is the module I'm most familiar with!\n",
    "\n",
    "##### Statistics \\*cues shrieks of terror\\*\n",
    "\n",
    "Just kidding! Statistics is great(-ish)!\n",
    "\n",
    "SciPy provides INNUMERABLE statistical functions, ranging anywhere from random number generation to statistical analysis. I personally know the most about random number generation, so that's where I'm going to focus.\n",
    "\n",
    "Some of the most common random number functions I use are\n",
    "`scipy.stats.bernoulli` and `scipy.stats.maxwell`\n",
    "\n",
    "SciPy has made it all convenient and has given each of these distributions static methods.\n",
    "\n",
    "Ex: `scipy.stats.bernoulli.rvs(p, size=())`\n",
    "\n",
    "Every statistical distribution has these staticmethods:\n",
    "`rvs`, `pdf` `logpdf`, `cdf`, `logcdf`, `mean`, `std`, `var`, etc.\n",
    "\n",
    "These staticmethods have their own significance. As described by the documentation itself:\n",
    "\n",
    "![](assets/rv_staticmethods.jpg)"
   ]
  },
  {
   "cell_type": "code",
   "execution_count": 23,
   "metadata": {},
   "outputs": [],
   "source": [
    "# Some statistical distributions to have fun with!\n",
    "from scipy.stats import bernoulli, boltzmann, norm, multivariate_normal"
   ]
  },
  {
   "cell_type": "markdown",
   "metadata": {},
   "source": [
    "However, though SciPy has innumrable random number generation functions, it also has some other amazing functions!"
   ]
  },
  {
   "cell_type": "code",
   "execution_count": 24,
   "metadata": {},
   "outputs": [],
   "source": [
    "# Other amazing functions to demonstrate\n",
    "\n",
    "# scipy.stats.chisquare\n",
    "# scipy.stats.zscore\n",
    "# scipy.stats.cumfreq"
   ]
  },
  {
   "cell_type": "markdown",
   "metadata": {},
   "source": [
    "### Linear Algebra `scipy.linalg`\n",
    "\n",
    "We'll be doing a linear algebra lecture in a few weeks, so we'll introduce this subpackage then!"
   ]
  },
  {
   "cell_type": "markdown",
   "metadata": {},
   "source": [
    "## Pandas"
   ]
  },
  {
   "cell_type": "code",
   "execution_count": null,
   "metadata": {},
   "outputs": [],
   "source": []
  },
  {
   "cell_type": "markdown",
   "metadata": {},
   "source": [
    "## Matplotlib"
   ]
  },
  {
   "cell_type": "code",
   "execution_count": null,
   "metadata": {},
   "outputs": [],
   "source": []
  }
 ],
 "metadata": {
  "kernelspec": {
   "display_name": "Python 3",
   "language": "python",
   "name": "python3"
  },
  "language_info": {
   "codemirror_mode": {
    "name": "ipython",
    "version": 3
   },
   "file_extension": ".py",
   "mimetype": "text/x-python",
   "name": "python",
   "nbconvert_exporter": "python",
   "pygments_lexer": "ipython3",
   "version": "3.7.6"
  }
 },
 "nbformat": 4,
 "nbformat_minor": 4
}
