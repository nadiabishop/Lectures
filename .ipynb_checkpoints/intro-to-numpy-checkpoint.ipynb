{
 "cells": [
  {
   "cell_type": "markdown",
   "metadata": {},
   "source": [
    "# Let's learn some NumPy!\n",
    "\n",
    "#### <font color=\"blue\">Okay, but I know some Python, what's this other stuff you want me to learn?</font>\n",
    "\n",
    "NumPy is a multidimensional array manipulation toolkit containing numerous high-performance functions to make your life as easy as possible!\n",
    "\n",
    "Aka: It does fun mathy-math stuff so my brain doesn't have to always go BRRRR, but instead just go brrrrr.\n",
    "\n",
    "## Let's install it!\n",
    "\n",
    "To install NumPy, there are just two simple steps:\n",
    "\n",
    "1. Run `python -m pip install numpy` or `python3 -m pip install numpy` (depending on what command you use to open up python.\n",
    "    - If you are using Colab, you can just run `!python3 -m pip install numpy` in a code block, as so:"
   ]
  },
  {
   "cell_type": "code",
   "execution_count": null,
   "metadata": {},
   "outputs": [],
   "source": [
    "!python3 -m pip install numpy"
   ]
  },
  {
   "cell_type": "markdown",
   "metadata": {},
   "source": [
    "## What is NumPy?\n",
    "\n",
    "NumPy is a Python library that adds support for massive multidimensional arrays along with vectorizable mathematical operations and tools for manipulating the aformentioned arrays."
   ]
  },
  {
   "cell_type": "markdown",
   "metadata": {},
   "source": [
    "#### So I keep hearing about these things called arrays. What are they?\n",
    "\n",
    "Great question!\n",
    "\n",
    "Remember lists are a built-in part of Python.\n",
    "\n",
    "All of these following statements will return a `list` object."
   ]
  },
  {
   "cell_type": "markdown",
   "metadata": {},
   "source": [
    "The `list` function provides an easy way to cast objects to a list, though to be honest, it's not that commonly used.\n",
    "In this case, we are casting a `tuple` to a `list`."
   ]
  },
  {
   "cell_type": "code",
   "execution_count": null,
   "metadata": {},
   "outputs": [],
   "source": [
    "a = list((1, 2, 3))\n",
    "\n",
    "print(a)"
   ]
  },
  {
   "cell_type": "markdown",
   "metadata": {},
   "source": [
    "What we have here is an empty `list`. These can be made by simply putting a pair of square brackets, like above (`[]`)."
   ]
  },
  {
   "cell_type": "code",
   "execution_count": null,
   "metadata": {},
   "outputs": [],
   "source": [
    "a = []\n",
    "\n",
    "print(a)"
   ]
  },
  {
   "cell_type": "markdown",
   "metadata": {},
   "source": [
    "To pre-populate a list, we can just place all the elements between the square brackets and delimit them with commas."
   ]
  },
  {
   "cell_type": "code",
   "execution_count": null,
   "metadata": {},
   "outputs": [],
   "source": [
    "a = [1, 2, 3, 4]\n",
    "\n",
    "print(a)"
   ]
  },
  {
   "cell_type": "markdown",
   "metadata": {},
   "source": [
    "`str` objects are also nice because they cast super well to a `list`. However, `str` objects are indexable themselves, so the only real time you'd really use a `list` is for mutability (the ability to change elements of the list)."
   ]
  },
  {
   "cell_type": "code",
   "execution_count": null,
   "metadata": {},
   "outputs": [],
   "source": [
    "a = list(\"hello!\")\n",
    "\n",
    "print(a)"
   ]
  },
  {
   "cell_type": "markdown",
   "metadata": {},
   "source": [
    "Oooh! Here's `list` comprehension, probably one of my favorite parts of Python!\n",
    "\n",
    "By saying `[i**2 for i in range(20)]`, a `list` of the values computed by `i**2` is outputted into a `list` with `i` values from `0` to `19`."
   ]
  },
  {
   "cell_type": "code",
   "execution_count": null,
   "metadata": {},
   "outputs": [],
   "source": [
    "a = [i**2 for i in range(20)]\n",
    "\n",
    "print(a)"
   ]
  },
  {
   "cell_type": "markdown",
   "metadata": {},
   "source": [
    "Here's the last one!\n",
    "\n",
    "Our handy-dandy `list.append` method.\n",
    "\n",
    "If you have a `list` and want to plop something onto the end, you can take the `list` and just use its `append` method."
   ]
  },
  {
   "cell_type": "code",
   "execution_count": null,
   "metadata": {},
   "outputs": [],
   "source": [
    "a = [1, 2, 3, 4]\n",
    "\n",
    "# Our friend 5 has accidentally got themselves kicked off the list, so we want to add them back to complete the friend group\n",
    "a.append(5)\n",
    "\n",
    "print(a)\n",
    "\n",
    "# In the words of Dr. Wheeler: \"Viola!\""
   ]
  },
  {
   "cell_type": "markdown",
   "metadata": {},
   "source": [
    "### Smh Arvin, you're getting distracted again. What are arrays???\n",
    "\n",
    "Oh shoot, I totally forgot, yes, arrays.\n",
    "\n",
    "So, as you can see with the `list` examples above, `list` objects are designed to store a varying number of items of varying types, but often in one-dimension.\n",
    "\n",
    "On the othe hand, arrays are typically only used for a single datatype, typically called a dtype, for objects with certain multidimensional shapes.\n",
    "It might sound horribly constrained, but in actuality, it's highly useful and modular, so let's dive in!\n",
    "\n",
    "Uhh, Arvin, you never explained how to use NumPy though. i mean, I downloaded it, is there something I need to do to access it?\n",
    "\n",
    "Good question and I'll explain it right now!\n",
    "\n",
    "## 2.1 Importing!\n",
    "\n",
    "First, with the `import` keyword directly:\n",
    "\n",
    "<img alt=\"<font style='color: blue;'>import</font> <font style='color: green;'>*module*</font> <font style='color: blue;'>as</font> <font style='color: purple;'>*name*</font>\" src=\"assets/import_structure.png\" width=\"500px\"/>\n",
    "\n",
    "* The green `module` is where you put the name of the module you want to import. Remember, it has to be a module. You can't directly import a method like this. You'd have to use `from`.\n",
    "\n",
    "* The blue `import` and `as` are keywords. `import` is required, but `as` is only used if you want to give it a \"name.\"\n",
    "\n",
    "* The purple `name` is optional. You don't have to rename it.\n",
    "\n",
    "The other way to import things is with the `from` keyword.\n",
    "\n",
    "<img alt=\"Structure of the from keyword\" src=\"assets/from_structure.png\" width=\"500px\"/>\n",
    "\n",
    "* The blue `from` and `import` keywords are both required. The `as` keyword can be incorporated, but it's pretty rare.\n",
    "\n",
    "* The green `module` is where you put the name of the module you are importing from.\n",
    "\n",
    "* The purple section is what exactly you're importing. For example, `*` would import everything into the current namespace, `thing` would import just the `thing`, and `(thing1, thing2)` would import both `thing1` and `thing2`\n",
    "\n",
    "Notes: You can use `as` with the `from` keyword like so: `from <module> import <thing1> as <abbreviation>`.\n",
    "Also, the different between `import` and `from` is as such:\n",
    "\n",
    "If you use `import numpy.linalg', then to access `numpy.linalg.norm()`, you will need to type the whole thing out.\n",
    "\n",
    "On the other hand...\n",
    "\n",
    "If you use `from numpy.linalg import norm`, then to access `numpy.linalg.norm()`, I can just say `norm`.\n",
    "\n",
    "However, `from` statements can be dangerous. If you do it wrong, you might unintentially overwrite a current method or variable.\n",
    "\n",
    "#### Let's try importing NumPy now!"
   ]
  },
  {
   "cell_type": "code",
   "execution_count": null,
   "metadata": {},
   "outputs": [],
   "source": [
    "import numpy as np # owo, see the import keyword? That's how we access NumPy. If you see an error, now is the time to let me know :)"
   ]
  },
  {
   "cell_type": "markdown",
   "metadata": {},
   "source": [
    "- Wait? That's all it took?\n",
    "\n",
    "    - Yeah! Python is an extremely modular and extensible language, and importing is literally easier than breathing.\n",
    "\n",
    "\n",
    "- What's the `np` represent?\n",
    "\n",
    "    - Well `np` is a commonly used abbreviation for NumPy throughout the Python community. You can import it however you'd like, but `np` is recognizable to pretty much everyone."
   ]
  },
  {
   "cell_type": "markdown",
   "metadata": {},
   "source": [
    "## 2.2 Initializing Arrays\n",
    "\n",
    "Thankfully, arrays are super simple to make and NumPy provides NUMEROUS methods to initialize them!\n",
    "\n",
    "So, let's get started!"
   ]
  },
  {
   "cell_type": "markdown",
   "metadata": {},
   "source": [
    "NumPy provides the `np.array()` method, which honestly, seems to resemble the `list` command. Let's try it out!"
   ]
  },
  {
   "cell_type": "code",
   "execution_count": null,
   "metadata": {},
   "outputs": [],
   "source": [
    "a = np.array([[1, 2], [3, 4]])\n",
    "\n",
    "print(a)"
   ]
  },
  {
   "cell_type": "markdown",
   "metadata": {},
   "source": [
    "So, as you can see, we sent a two-dimensional list as an input to the `np.array` function, which then converted the `list` to an `np.ndarray` object.\n",
    "\n",
    "$\\begin{bmatrix}\n",
    "1 & 2\\\\\n",
    "3 & 4\n",
    "\\end{bmatrix} \\rightarrow$ `np.ndarray`\n",
    "\n",
    "What's an `ndarray`? Well, it's short for n-dimensional array and it pretty much just a nod to the multidimensional capabilities of NumPy.\n",
    "\n",
    "\n",
    "\n",
    "Interestingly, the array we made prints like \n",
    "\n",
    "```[[1 2] \n",
    " [3 4]]```\n",
    "\n",
    "instead of \n",
    "```[1, 2, 3, 4]``` \n",
    "\n",
    "Anyone have any idea why that is?\n",
    "\n",
    "\n",
    "Okay, well, let's see how else we can initialize an array.\n",
    "\n",
    "NumPy provides these methods:\n",
    "\n",
    "* `np.array`\n",
    "* `np.zeros`\n",
    "* `np.ones`\n",
    "* `np.empty`\n",
    "* `np.arange` and `np.linspace`\n",
    "* `np.zeros_like`, `np.ones_like`, `np.empty_like`\n",
    "* `np.random.*`\n",
    "\n",
    "So, let's test out a few of these! I'll start out with `np.zeros` but, feel free to play around!"
   ]
  },
  {
   "cell_type": "code",
   "execution_count": null,
   "metadata": {},
   "outputs": [],
   "source": [
    "np.zeros((4, 4, 3)) # The shape of the array is the input to the function."
   ]
  },
  {
   "cell_type": "markdown",
   "metadata": {},
   "source": [
    "## 2.3 Indexing & Slicing\n",
    "\n",
    "Okay, in my opinion, this is probably the most confusing section of this entire thing, so I'm gonna just rip off the bandaid, but with soapy water so it hurts less.\n",
    "\n",
    "Put simply, indexing and slicing are ways of extracting subsets of an array. It is, fundamentally, a very simple idea, but thinking about it in multiple dimensions can take some mental fortitude.\n",
    "\n",
    "### 2.3.1 Indexing\n",
    "\n",
    "If you're familiar with Python or went to our last lecture, you have some familiarity with indexing in lists. For a quick recap:\n",
    "\n",
    "* Indexing is done using bracket notation.\n",
    "* Indexing starts at 0\n",
    "* Indexing multiple dimensions can be done using multiple bracket pairs.\n",
    "\n",
    "With indexing in NumPy, approximately the same rules still apply!\n",
    "\n",
    "One notable difference is that NumPy prefers slightly different notation. It is encouraged to represent multiple dimensional indices with a list of numbers rather than individual bracket pairs.\n",
    "\n",
    "Let's try them out."
   ]
  },
  {
   "cell_type": "code",
   "execution_count": null,
   "metadata": {},
   "outputs": [],
   "source": [
    "x = np.array([\n",
    "    [1, 2, 3, 4, 5],\n",
    "    [2, 3, 4, 5, 6],\n",
    "    [3, 4, 5, 6, 7],\n",
    "    [4, 5, 6, 7, 8],\n",
    "    [5, 6, 7, 8, 9]\n",
    "])\n",
    "\n",
    "print(x)\n",
    "\n",
    "# What do you think x[0] will be?\n",
    "\n",
    "print(x[0])\n",
    "\n",
    "# How about x[0, 0]\n",
    "print(x[][0])"
   ]
  },
  {
   "cell_type": "markdown",
   "metadata": {},
   "source": [
    "### 2.3.2 Slicing\n",
    "\n",
    "Slicing is actually really similar to indexing, except instead of trying to extract a single element from the array, you are getting a block of the array.\n",
    "\n",
    "For example, trying to get a 3x3 subset of a matrix.\n",
    "\n",
    "$A = \\begin{bmatrix}\n",
    "1 & 2 & 3 & 4 & 5 & 6\\\\\n",
    "3 & 4 & 5 & 6 & 7 & 8\\\\\n",
    "5 & 6 & 7 & 8 & 9 & 10\\\\\n",
    "7 & 8 & 9 & 10 & 11 & 12\\\\\n",
    "\\end{bmatrix}$\n",
    "\n",
    "Let's say we want to get the middle 2x2 block from this 4x6 matrix. Just from \"eyeballing\" it, it seems like\n",
    "$\\begin{bmatrix}\n",
    "5 & 6\\\\\n",
    "7 & 8\n",
    "\\end{bmatrix}$ is what we're looking for.\n",
    "\n",
    "Now, we can do what is known as **slicing**.\n",
    "\n",
    "So, over the zeroth axis (rows), we find that we are grabbing the piece from the 1st index to the 3rd index. It's important to note that slicing is (inclusive, exclusive). The element at the exclusive index will not be included.\n",
    "\n",
    "Over the first axis (columns), we find that we are cutting from the 2rd index to the 4th index.\n",
    "\n",
    "To prove this, we will slice!\n",
    "\n",
    "Let's jump right into it!"
   ]
  },
  {
   "cell_type": "code",
   "execution_count": null,
   "metadata": {},
   "outputs": [],
   "source": [
    "A = np.array([\n",
    "    [1, 2, 3, 4, 5, 6],\n",
    "    [3, 4, 5, 6, 7, 8],\n",
    "    [5, 6, 7, 8, 9, 10],\n",
    "    [7, 8, 9, 10, 11, 12]\n",
    "])\n",
    "\n",
    "print(A) # Return our array\n",
    "\n",
    "print(A[1:3, 2:4]) # Return our slice"
   ]
  },
  {
   "cell_type": "markdown",
   "metadata": {},
   "source": [
    "Voila! The slice is complete!\n",
    "\n",
    "Of course, slices have some more fun features.\n",
    "\n",
    "If you have an array `A` with `n` dimensions, you can have up to `n` dimensional slices.\n",
    "\n",
    "All slices fit a general format:\n",
    "    \n",
    "<img src=\"assets/slice_structure.png\" width=\"500px\" />\n",
    "\n",
    "In the last slice, we left out the step size, because it is assumed to be 1.\n",
    "We can also leave out the start and/or end values too, indicating we want to use the entirety of that axis or even just from a certain value to either end of the axis."
   ]
  },
  {
   "cell_type": "code",
   "execution_count": null,
   "metadata": {},
   "outputs": [],
   "source": [
    "A = np.array([\n",
    "    [\n",
    "        [1,2,3],\n",
    "        [4,5,6],\n",
    "        [7,8,9]\n",
    "    ],\n",
    "    [\n",
    "        [10,11,12],\n",
    "        [13,14,15],\n",
    "        [16,17,18]\n",
    "    ],\n",
    "    [\n",
    "        [19,20,21],\n",
    "        [22,23,24],\n",
    "        [25,26,27]\n",
    "    ]\n",
    "])\n",
    "\n",
    "print(\"All axes:\\n\", A)\n",
    "\n",
    "# Slice the first axis only\n",
    "print(\"First axis only:\\n\", A[1:3])\n",
    "\n",
    "# Slice second axis only\n",
    "print(\"Second axis only:\\n\", A[:, 1:3])\n",
    "\n",
    "# Slice third axis only\n",
    "print(\"Third axis only:\\n\", A[:, :, 1:3])"
   ]
  },
  {
   "cell_type": "markdown",
   "metadata": {},
   "source": [
    "So, as you can tell, this can be a very difficult topic to grasp. It takes some time to build visualization skills to help deconstruct and analyze these arrays. But of course, practice makes perfect! Perhaps another time, we can talk about conditional indexing with NumPy!\n",
    "\n",
    "## 2.4 Attributes!\n",
    "\n",
    "Now that this part is over, we can get to the chill stuff: `attributes`.\n",
    "\n",
    "`np.ndarray` is what is known as a class. It's like a factory for making objects. Put in the necessary information and out comes the object! Each of these objects have intrinsic properties that allow you to manipulate them. These properties are called attributes.\n",
    "\n",
    "One of the most important attributes of an `ndarray` is `ndarray.shape`. In Python, attributes of an object are typically accessed using the `.` symbol. Just as you might expect, `ndarray.shape` tells you the shape of the array."
   ]
  },
  {
   "cell_type": "code",
   "execution_count": null,
   "metadata": {},
   "outputs": [],
   "source": [
    "x = np.random.randn(100, 20, 5)\n",
    "\n",
    "print(x.shape)"
   ]
  },
  {
   "cell_type": "markdown",
   "metadata": {},
   "source": [
    "Woah! Who would've guessed? That a 100x20x5 array would have the shape 100x20x5? Preposterous!\n",
    "\n",
    "You would think that `ndarray.size` would be the same thing as shape, but it's not. It actually tells you the total number of elements in the array.\n",
    "\n",
    "Another useful attribute is `ndarray.ndim`. It simply tells you how many dimensions the array has.\n",
    "\n",
    "`ndarray.T`: The `.T` attribute is the transposed version of the original array. What is transposition?\n",
    "\n",
    "`ndarray.dtype`: The `.dtype` attribute returns the datatype being stored within the array. i.e. `int`, `float32`, `float64`, `complex128`.\n",
    "\n",
    "`ndarrays` have numerous attributes and for a complete list, please visit https://numpy.org/doc/stable/reference/arrays.ndarray.html."
   ]
  },
  {
   "cell_type": "markdown",
   "metadata": {},
   "source": [
    "## 2.5 Reshaping\n",
    "\n",
    "Okay, so this one is a little weird to explain, but Numpy, being the amazing library it is, supports reshaping!\n",
    "\n",
    "I'm sure you are familiar with the word \"reshaping,\" but there are particular constraints with reshaping in NumPy. The biggest thing to keep in mind is that Reshaping != Rescaling. When reshaping an array, the total number of elements (`size`) should remain constant.\n",
    "\n",
    "Reshaping arrays in NumPy is rather easy. In fact, it's so commonly used that it's actually an attribute for arrays!\n",
    "\n",
    "`a_reshaped = a.reshape(<new_shape>)`\n",
    "\n",
    "Let's try out an easy example!"
   ]
  },
  {
   "cell_type": "code",
   "execution_count": null,
   "metadata": {},
   "outputs": [],
   "source": [
    "A = np.array([\n",
    "    [1, 3, 5, 7],\n",
    "    [2, 6, 8, 4],\n",
    "    [1, 3, 9, 27],\n",
    "    [1, 1, 2, 3]\n",
    "])\n",
    "\n",
    "print(A) # Original Array"
   ]
  },
  {
   "cell_type": "code",
   "execution_count": null,
   "metadata": {},
   "outputs": [],
   "source": [
    "print(A.reshape((2, 8)))"
   ]
  },
  {
   "cell_type": "code",
   "execution_count": null,
   "metadata": {},
   "outputs": [],
   "source": [
    "print(A.reshape((8, 2)))"
   ]
  },
  {
   "cell_type": "markdown",
   "metadata": {},
   "source": [
    "Since I didn't cover actually performing a transposition, I will do that here as well!"
   ]
  },
  {
   "cell_type": "code",
   "execution_count": null,
   "metadata": {},
   "outputs": [],
   "source": [
    "print(A.T)"
   ]
  },
  {
   "cell_type": "markdown",
   "metadata": {},
   "source": [
    "NumPy also provides a few helper functions for reshaping:\n",
    "\n",
    "* `ndarray.flatten()`: Returns a flattened (unraveled into 1-D) copy of an N-dimensional array\n",
    "* `ndarray.ravel()`: A very close relative of `ndarray.flatten()` but doesn't necessarily make a copy of the array beforehand\n",
    "* `np.expand_dims()`: Returns a copy of the array with an added dimension at the axis of choice.\n",
    "\n",
    "Let's play around with these for a bit!"
   ]
  },
  {
   "cell_type": "code",
   "execution_count": null,
   "metadata": {},
   "outputs": [],
   "source": [
    "print(A.flatten())\n",
    "print(A.ravel())\n",
    "print(np.expand_dims(A, axis=1))"
   ]
  },
  {
   "cell_type": "markdown",
   "metadata": {},
   "source": [
    "## 2.6 Mathematical Functions\n",
    "\n",
    "Saving the best for last, we have math! Like I stated at the beginning, NumPy is filled with mathematical functions for doing fun mathy-math stuff! :)\n",
    "\n",
    "First of all, let's talk array arithmetic!\n",
    "\n",
    "If you have two arrays of the same shape (or an array and a scalar), you can perform addition, subtraction, division, and multiplication!\n",
    "\n",
    "`C = A + B`\n",
    "`C = A - B`\n",
    "`C = A * B`\n",
    "`C = A / B`\n",
    "\n",
    "This arithmetic is all elementwise, which is why the shape requirement exists.\n",
    "\n",
    "On the other hand, if you want to do fun stuff like dot products and cross products and linear algebra, NumPy provides mathematical functions for those!\n",
    "\n",
    "Let's say I want to take the dot product of two vectors, `a` and `b`.\n",
    "\n",
    "You could do: `np.dot(a, b)`\n",
    "But you could also do: `a.dot(b)`\n",
    "\n",
    "Same applies for cross products!\n",
    "\n",
    "However, if you want to, say, take the norm (magnitude of vector) of vector a, you would have to use NumPy's submodule, `linalg`: `np.linalg.norm(a)`\n",
    "\n",
    "A lot of mathematical functions are provided as attributes of `ndarray`, including, but not limited to `ndarray.sum`, `ndarray.max`, `ndarray.mean`, `ndarray.std`.\n",
    "\n",
    "NumPy is so expansive that I could not possibly even dare to cover the entirety of the basics of it, but if you are feeling pursuant, I highly recommend checking out the documentation and following their beginner's guide (https://numpy.org/doc/stable/user/absolute_beginners.html) as well as their documentation (https://numpy.org/doc/stable/)"
   ]
  }
 ],
 "metadata": {
  "kernelspec": {
   "display_name": "Python 3",
   "language": "python",
   "name": "python3"
  },
  "language_info": {
   "codemirror_mode": {
    "name": "ipython",
    "version": 3
   },
   "file_extension": ".py",
   "mimetype": "text/x-python",
   "name": "python",
   "nbconvert_exporter": "python",
   "pygments_lexer": "ipython3",
   "version": "3.7.6"
  }
 },
 "nbformat": 4,
 "nbformat_minor": 4
}
