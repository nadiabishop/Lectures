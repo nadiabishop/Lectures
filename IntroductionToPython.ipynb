{
  "nbformat": 4,
  "nbformat_minor": 0,
  "metadata": {
    "colab": {
      "name": "IntroductionToPython.ipynb",
      "provenance": [],
      "authorship_tag": "ABX9TyMxh5N+jL7aZdH+WXMU6UhM",
      "include_colab_link": true
    },
    "kernelspec": {
      "name": "python3",
      "display_name": "Python 3"
    }
  },
  "cells": [
    {
      "cell_type": "markdown",
      "metadata": {
        "id": "view-in-github",
        "colab_type": "text"
      },
      "source": [
        "<a href=\"https://colab.research.google.com/github/ncssm-mlclub/Lectures/blob/master/IntroductionToPython.ipynb\" target=\"_parent\"><img src=\"https://colab.research.google.com/assets/colab-badge.svg\" alt=\"Open In Colab\"/></a>"
      ]
    },
    {
      "cell_type": "markdown",
      "metadata": {
        "id": "fSjgOvpr78h-",
        "colab_type": "text"
      },
      "source": [
        "# Python\n",
        "\n",
        "- Python is a high level programming language. This means it is fairly easy to work with.\n",
        "- Python has a design philosophy that emphasizes code readability, notably using \"significant whitespace\". It provides constructs that enable clear programming on both small and large scales.\n",
        "\n",
        "# Jupyter Notebooks\n",
        "\n",
        "Jupyter Notebooks are a key tool in a Data Scientist's toolbox. One of the major benefits of using a Jupyter Notebook is that you can run code in 'cells', which lets you see outputs immediately. To run a cell, press Shift+Enter, or click the run button when you hover over the cell.\n"
      ]
    },
    {
      "cell_type": "code",
      "metadata": {
        "id": "-ncQisTz8Uvh",
        "colab_type": "code",
        "colab": {
          "base_uri": "https://localhost:8080/",
          "height": 34
        },
        "outputId": "72095392-0946-44d9-ba49-0a9c1e48a380"
      },
      "source": [
        "# Hello World Time (This is called a comment. Python won't run this line. You denote comments with a #)\n",
        "\n",
        "print(\"Hello World\")"
      ],
      "execution_count": 1,
      "outputs": [
        {
          "output_type": "stream",
          "text": [
            "Hello World\n"
          ],
          "name": "stdout"
        }
      ]
    },
    {
      "cell_type": "markdown",
      "metadata": {
        "id": "JUgvhGZt84og",
        "colab_type": "text"
      },
      "source": [
        "As you can see Python uses the `print()` function to print out outputs. You'll be using the print statement a lot, and it'll soon become muscle memory."
      ]
    },
    {
      "cell_type": "markdown",
      "metadata": {
        "id": "e42hRlPb9sZm",
        "colab_type": "text"
      },
      "source": [
        "# 1. 1 Statements\n",
        "\n",
        "Python is an imperative language based on statements. That is, programs in Python consists of lines composed of statements. A statement can be:\n",
        "\n",
        "- a single expression\n",
        "- a variable assignment (giving a value to a varaible)\n",
        "- a function call\n",
        "- a function definition\n",
        "- a statement; statement\n",
        "\n",
        "## 1.1.1 Expressions\n",
        "\n",
        "- Numbers\n",
        "    - integers\n",
        "        - Self-explanatory, these are the Integers: $ \\mathbb{Z} $\n",
        "    - floating-point\n",
        "        - All Real Numbers\n",
        "    - complex numbers\n",
        "- strings\n",
        "    - You represent strings using either single quotes (`'hi'`) or double quotes (`\"hi\"`).\n",
        "    - Most other programming languages use double quotes, but Python prefers single quotes.\n",
        "- boolean values\n",
        "    - `True` or `False`\n",
        "    - Can also be represented as 0 or 1\n"
      ]
    },
    {
      "cell_type": "markdown",
      "metadata": {
        "id": "Qi5dG_Pi_cD-",
        "colab_type": "text"
      },
      "source": [
        "### 1.1.1.1 Numbers"
      ]
    },
    {
      "cell_type": "code",
      "metadata": {
        "id": "WgrVLAmV81xY",
        "colab_type": "code",
        "colab": {
          "base_uri": "https://localhost:8080/",
          "height": 34
        },
        "outputId": "dbcd7658-e906-42a5-a3bf-a73d2992d451"
      },
      "source": [
        "#The following is an integer\n",
        "1"
      ],
      "execution_count": 2,
      "outputs": [
        {
          "output_type": "execute_result",
          "data": {
            "text/plain": [
              "1"
            ]
          },
          "metadata": {
            "tags": []
          },
          "execution_count": 2
        }
      ]
    },
    {
      "cell_type": "code",
      "metadata": {
        "id": "6tYuUJzW_N9B",
        "colab_type": "code",
        "colab": {
          "base_uri": "https://localhost:8080/",
          "height": 34
        },
        "outputId": "71cb2819-4a2b-4936-ba59-51eb1dc76c00"
      },
      "source": [
        "# The following is a float\n",
        "2.1"
      ],
      "execution_count": 3,
      "outputs": [
        {
          "output_type": "execute_result",
          "data": {
            "text/plain": [
              "2.1"
            ]
          },
          "metadata": {
            "tags": []
          },
          "execution_count": 3
        }
      ]
    },
    {
      "cell_type": "code",
      "metadata": {
        "id": "6SLodKCw_YX3",
        "colab_type": "code",
        "colab": {}
      },
      "source": [
        "#You can also convert between integers and floats! What do you think happens when you convert a float with numbers after the decimal point to an integer?"
      ],
      "execution_count": 4,
      "outputs": []
    },
    {
      "cell_type": "code",
      "metadata": {
        "id": "Vwyjy_7E_zhi",
        "colab_type": "code",
        "colab": {
          "base_uri": "https://localhost:8080/",
          "height": 34
        },
        "outputId": "7f51690e-27d8-4324-badf-9a9a8f481366"
      },
      "source": [
        "int(2.1)"
      ],
      "execution_count": 5,
      "outputs": [
        {
          "output_type": "execute_result",
          "data": {
            "text/plain": [
              "2"
            ]
          },
          "metadata": {
            "tags": []
          },
          "execution_count": 5
        }
      ]
    },
    {
      "cell_type": "code",
      "metadata": {
        "id": "3qu-v18C_1tn",
        "colab_type": "code",
        "colab": {}
      },
      "source": [
        "#And when you convert an integer to a float?"
      ],
      "execution_count": 6,
      "outputs": []
    },
    {
      "cell_type": "code",
      "metadata": {
        "id": "Tp8UiBXA_37-",
        "colab_type": "code",
        "colab": {
          "base_uri": "https://localhost:8080/",
          "height": 34
        },
        "outputId": "8062baab-3e4d-4712-b534-2b4bf1aacb47"
      },
      "source": [
        "float(2)"
      ],
      "execution_count": 7,
      "outputs": [
        {
          "output_type": "execute_result",
          "data": {
            "text/plain": [
              "2.0"
            ]
          },
          "metadata": {
            "tags": []
          },
          "execution_count": 7
        }
      ]
    },
    {
      "cell_type": "markdown",
      "metadata": {
        "id": "hjpNDO_j_6-w",
        "colab_type": "text"
      },
      "source": [
        "### 1.1.1.2 Strings"
      ]
    },
    {
      "cell_type": "code",
      "metadata": {
        "id": "7BWJgHoIBH-2",
        "colab_type": "code",
        "colab": {
          "base_uri": "https://localhost:8080/",
          "height": 35
        },
        "outputId": "fdfc1a29-7905-4d54-aeba-ac573ab0a40d"
      },
      "source": [
        "\"hello\""
      ],
      "execution_count": 8,
      "outputs": [
        {
          "output_type": "execute_result",
          "data": {
            "application/vnd.google.colaboratory.intrinsic+json": {
              "type": "string"
            },
            "text/plain": [
              "'hello'"
            ]
          },
          "metadata": {
            "tags": []
          },
          "execution_count": 8
        }
      ]
    },
    {
      "cell_type": "code",
      "metadata": {
        "id": "HMmDPO1OBKb_",
        "colab_type": "code",
        "colab": {
          "base_uri": "https://localhost:8080/",
          "height": 35
        },
        "outputId": "b22ab196-7f36-4c06-9fec-975900c4aa4e"
      },
      "source": [
        "'hi'"
      ],
      "execution_count": 9,
      "outputs": [
        {
          "output_type": "execute_result",
          "data": {
            "application/vnd.google.colaboratory.intrinsic+json": {
              "type": "string"
            },
            "text/plain": [
              "'hi'"
            ]
          },
          "metadata": {
            "tags": []
          },
          "execution_count": 9
        }
      ]
    },
    {
      "cell_type": "code",
      "metadata": {
        "id": "O5b78d72BLZe",
        "colab_type": "code",
        "colab": {}
      },
      "source": [
        "#Both of the above are strings, you'll see that people use both double quotes and single quotes. It doesn't really matter, just pick the one that appeals to you :). "
      ],
      "execution_count": 10,
      "outputs": []
    },
    {
      "cell_type": "markdown",
      "metadata": {
        "id": "uEi7BD1TBaH_",
        "colab_type": "text"
      },
      "source": [
        "You'll notice that both of the strings when outputted used single quotes. This is because Python prefers single quotes, but it doesn't matter.\n",
        "\n",
        "### 1.1.1.3 Boolean Values"
      ]
    },
    {
      "cell_type": "code",
      "metadata": {
        "id": "LqxqYciHBS1u",
        "colab_type": "code",
        "colab": {
          "base_uri": "https://localhost:8080/",
          "height": 34
        },
        "outputId": "6dd61623-3edb-4d0f-812f-23568c993030"
      },
      "source": [
        "True"
      ],
      "execution_count": 11,
      "outputs": [
        {
          "output_type": "execute_result",
          "data": {
            "text/plain": [
              "True"
            ]
          },
          "metadata": {
            "tags": []
          },
          "execution_count": 11
        }
      ]
    },
    {
      "cell_type": "code",
      "metadata": {
        "id": "hpXEymRnBlUw",
        "colab_type": "code",
        "colab": {
          "base_uri": "https://localhost:8080/",
          "height": 34
        },
        "outputId": "e1f8b67f-a59f-4a91-8259-9fbdd1ec6f27"
      },
      "source": [
        "False"
      ],
      "execution_count": 12,
      "outputs": [
        {
          "output_type": "execute_result",
          "data": {
            "text/plain": [
              "False"
            ]
          },
          "metadata": {
            "tags": []
          },
          "execution_count": 12
        }
      ]
    },
    {
      "cell_type": "markdown",
      "metadata": {
        "id": "HgM-rO7GEDOH",
        "colab_type": "text"
      },
      "source": [
        "### 1.1.1.3.1 Conversions\n",
        "\n",
        "You can convert from strings to integers and floats as well."
      ]
    },
    {
      "cell_type": "code",
      "metadata": {
        "id": "PO6HaTwtELrG",
        "colab_type": "code",
        "colab": {
          "base_uri": "https://localhost:8080/",
          "height": 35
        },
        "outputId": "189b5055-ab1e-437e-d82e-467c0705b972"
      },
      "source": [
        "str(2)"
      ],
      "execution_count": 16,
      "outputs": [
        {
          "output_type": "execute_result",
          "data": {
            "application/vnd.google.colaboratory.intrinsic+json": {
              "type": "string"
            },
            "text/plain": [
              "'2'"
            ]
          },
          "metadata": {
            "tags": []
          },
          "execution_count": 16
        }
      ]
    },
    {
      "cell_type": "code",
      "metadata": {
        "id": "fxMhX3adENYG",
        "colab_type": "code",
        "colab": {
          "base_uri": "https://localhost:8080/",
          "height": 35
        },
        "outputId": "bfcef352-525e-4fab-f649-b3de0db9f969"
      },
      "source": [
        "str(3.4)"
      ],
      "execution_count": 17,
      "outputs": [
        {
          "output_type": "execute_result",
          "data": {
            "application/vnd.google.colaboratory.intrinsic+json": {
              "type": "string"
            },
            "text/plain": [
              "'3.4'"
            ]
          },
          "metadata": {
            "tags": []
          },
          "execution_count": 17
        }
      ]
    },
    {
      "cell_type": "code",
      "metadata": {
        "id": "5u-HZm9IEPhP",
        "colab_type": "code",
        "colab": {
          "base_uri": "https://localhost:8080/",
          "height": 35
        },
        "outputId": "d8e67fed-4c8e-4cbb-9450-f1f3c119a1ef"
      },
      "source": [
        "str(True)"
      ],
      "execution_count": 18,
      "outputs": [
        {
          "output_type": "execute_result",
          "data": {
            "application/vnd.google.colaboratory.intrinsic+json": {
              "type": "string"
            },
            "text/plain": [
              "'True'"
            ]
          },
          "metadata": {
            "tags": []
          },
          "execution_count": 18
        }
      ]
    },
    {
      "cell_type": "markdown",
      "metadata": {
        "id": "FwjATWvwBmwf",
        "colab_type": "text"
      },
      "source": [
        "### 1.1.1.4 Lists and Dicts\n",
        "\n",
        "Python has a few useful data structures built in. Data Structures are objects that have special ways of representing data.\n",
        "\n",
        "The three most useful Python data structures for a data scientist are:\n",
        "\n",
        "- Dictionaries: {}. Dictionaries map \"keys\" to \"values\"\n",
        "- Lists: [ ]. As the name suggests, lists are lists of values. You can put anything inside a list, even other lists! The things inside lists don't need to be of the same type, so you can have integers and strings in the same list. Lists are mutable which means they can be changed.\n",
        "- Tuples: (item, ...). A Tuple is a read-only data structure, which means you can't change it. (Immutable)"
      ]
    },
    {
      "cell_type": "code",
      "metadata": {
        "id": "4HgQwRGfBltG",
        "colab_type": "code",
        "colab": {
          "base_uri": "https://localhost:8080/",
          "height": 34
        },
        "outputId": "4f27c675-b027-4d80-ad19-d11e7474ab90"
      },
      "source": [
        "[1, 2, 3]"
      ],
      "execution_count": 13,
      "outputs": [
        {
          "output_type": "execute_result",
          "data": {
            "text/plain": [
              "[1, 2, 3]"
            ]
          },
          "metadata": {
            "tags": []
          },
          "execution_count": 13
        }
      ]
    },
    {
      "cell_type": "code",
      "metadata": {
        "id": "bYRLFc8MD0IY",
        "colab_type": "code",
        "colab": {
          "base_uri": "https://localhost:8080/",
          "height": 34
        },
        "outputId": "350920b9-433b-467a-ba26-c8f4aa66be28"
      },
      "source": [
        "[1, 2, \"hi\"]"
      ],
      "execution_count": 14,
      "outputs": [
        {
          "output_type": "execute_result",
          "data": {
            "text/plain": [
              "[1, 2, 'hi']"
            ]
          },
          "metadata": {
            "tags": []
          },
          "execution_count": 14
        }
      ]
    },
    {
      "cell_type": "code",
      "metadata": {
        "id": "t56cSsdUD1Qs",
        "colab_type": "code",
        "colab": {
          "base_uri": "https://localhost:8080/",
          "height": 34
        },
        "outputId": "0617b26e-9748-409c-8a8b-41b6d5ee9fa6"
      },
      "source": [
        "[1, 2.0, \"hi\", [True, False, \"bye\"]]"
      ],
      "execution_count": 15,
      "outputs": [
        {
          "output_type": "execute_result",
          "data": {
            "text/plain": [
              "[1, 2.0, 'hi', [True, False, 'bye']]"
            ]
          },
          "metadata": {
            "tags": []
          },
          "execution_count": 15
        }
      ]
    },
    {
      "cell_type": "markdown",
      "metadata": {
        "id": "S7Ty8oNGD5Ro",
        "colab_type": "text"
      },
      "source": [
        "All of the above are lists! Lists can contain whatever you want and you'll often take advantage of this feature."
      ]
    },
    {
      "cell_type": "code",
      "metadata": {
        "id": "9gyHWP9ND4NM",
        "colab_type": "code",
        "colab": {
          "base_uri": "https://localhost:8080/",
          "height": 34
        },
        "outputId": "c512c276-abf9-43de-9cc9-23e331bf49fe"
      },
      "source": [
        "{\"the\": 1, \"dog\": 1, \"is\" : 1, \"very\" : 2, \"good\":1}"
      ],
      "execution_count": 19,
      "outputs": [
        {
          "output_type": "execute_result",
          "data": {
            "text/plain": [
              "{'dog': 1, 'good': 1, 'is': 1, 'the': 1, 'very': 2}"
            ]
          },
          "metadata": {
            "tags": []
          },
          "execution_count": 19
        }
      ]
    },
    {
      "cell_type": "markdown",
      "metadata": {
        "id": "ez8MnHq6EcU4",
        "colab_type": "text"
      },
      "source": [
        "The above is a dictionary that contains the words in a sentence and the number of times they appear. You'll often use dictionaries to keep track of the number of times certain values appear in a dataset. In this case the sentence was: \"The dog is very very good.\""
      ]
    },
    {
      "cell_type": "markdown",
      "metadata": {
        "id": "HcGvTrL4ErD_",
        "colab_type": "text"
      },
      "source": [
        "## 1.1.2 Function Calls\n",
        "\n",
        "Functions in programming are similar to functions in mathematics.\n",
        "\n",
        "$f(x) = y$ might be what you're used to in math, and it is basically the same in Python. \n",
        "\n",
        "Functions in programming take in some input and spit out some output. They don't need an input and will sometimes not give an output, but the principle is the same.\n",
        "\n",
        "There are two ways to call functions in Python:\n",
        "- By pre-defined infix operator name.\n",
        "    - Your basic arithmetic falls under this category\n",
        "        - `+`, `-`, `*`, `/`, `//`\n",
        "        - You might be wondering what the difference between `/` and `//` is. Well a single `/` means that float division is going on, so the division operation will return a float.\n",
        "        - For example `3/2` = 1.5 and `3/3` = 1.0. \n",
        "        - `//` means integer division, so it'll round down to an integer. \n",
        "        - `4//3` becomes 1.\n",
        "        - To exponentiate you use two asteriks so for example `3**2` returns 9.\n",
        "        - The `^` operator is reserved for another operation: bitwise XOR, but you don't need to know about that yet.\n",
        "        - Another arithmetic operator is the `%` (pronounced mod, formal name: modulus).\n",
        "        - What `%` does is return the remainder of the division between two numbers. `a % b` returns the remainder when a is divided by b.\n",
        "    - Other keywords like `and`, `or`, and `in` fall in this category. We'll tallk about them later.\n",
        "- By function name, followed by parentheses. \n",
        "    - `print()` is a function!\n"
      ]
    },
    {
      "cell_type": "markdown",
      "metadata": {
        "id": "N4Iomih7H1FM",
        "colab_type": "text"
      },
      "source": [
        "Important Python Functions"
      ]
    },
    {
      "cell_type": "code",
      "metadata": {
        "id": "C2a4IQxeEam9",
        "colab_type": "code",
        "colab": {
          "base_uri": "https://localhost:8080/",
          "height": 34
        },
        "outputId": "1cbb9bc2-3b46-47e5-c0cf-b2aa1ed15c74"
      },
      "source": [
        "abs(-1) #Returns the absolute value of the input"
      ],
      "execution_count": 20,
      "outputs": [
        {
          "output_type": "execute_result",
          "data": {
            "text/plain": [
              "1"
            ]
          },
          "metadata": {
            "tags": []
          },
          "execution_count": 20
        }
      ]
    },
    {
      "cell_type": "code",
      "metadata": {
        "id": "wIvf4VaVH8j7",
        "colab_type": "code",
        "colab": {
          "base_uri": "https://localhost:8080/",
          "height": 34
        },
        "outputId": "b6eb15c4-8166-4fe6-8448-378b99e71084"
      },
      "source": [
        "len([1,2,3]) #Returns the length of a list"
      ],
      "execution_count": 21,
      "outputs": [
        {
          "output_type": "execute_result",
          "data": {
            "text/plain": [
              "3"
            ]
          },
          "metadata": {
            "tags": []
          },
          "execution_count": 21
        }
      ]
    },
    {
      "cell_type": "code",
      "metadata": {
        "id": "GhsZTBjwH-yi",
        "colab_type": "code",
        "colab": {
          "base_uri": "https://localhost:8080/",
          "height": 34
        },
        "outputId": "e5a31e04-2cb0-48a9-bf1e-a70bed3cad77"
      },
      "source": [
        "len(\"hello\") #Also returns the length of a string"
      ],
      "execution_count": 22,
      "outputs": [
        {
          "output_type": "execute_result",
          "data": {
            "text/plain": [
              "5"
            ]
          },
          "metadata": {
            "tags": []
          },
          "execution_count": 22
        }
      ]
    },
    {
      "cell_type": "code",
      "metadata": {
        "id": "u5k1L0fcICdz",
        "colab_type": "code",
        "colab": {
          "base_uri": "https://localhost:8080/",
          "height": 34
        },
        "outputId": "1f1cf268-c953-4169-a89a-47a388865f88"
      },
      "source": [
        "sum([1,2,3]) #Returns the sum of a list"
      ],
      "execution_count": 23,
      "outputs": [
        {
          "output_type": "execute_result",
          "data": {
            "text/plain": [
              "6"
            ]
          },
          "metadata": {
            "tags": []
          },
          "execution_count": 23
        }
      ]
    },
    {
      "cell_type": "code",
      "metadata": {
        "id": "fbMlo1ayJILC",
        "colab_type": "code",
        "colab": {
          "base_uri": "https://localhost:8080/",
          "height": 34
        },
        "outputId": "a5461757-6bda-47c8-c7c3-d17594ae0dc6"
      },
      "source": [
        "sorted([3,4,2]) #returns the sorted version of any sort of iterable (lists, tuples, dictionaries)"
      ],
      "execution_count": 24,
      "outputs": [
        {
          "output_type": "execute_result",
          "data": {
            "text/plain": [
              "[2, 3, 4]"
            ]
          },
          "metadata": {
            "tags": []
          },
          "execution_count": 24
        }
      ]
    },
    {
      "cell_type": "markdown",
      "metadata": {
        "id": "1UnAq3xVJSyN",
        "colab_type": "text"
      },
      "source": [
        "## 1.1.3 Special Values"
      ]
    },
    {
      "cell_type": "code",
      "metadata": {
        "id": "DMK4KjOBJLZp",
        "colab_type": "code",
        "colab": {}
      },
      "source": [
        "None #None Type, returns None"
      ],
      "execution_count": 26,
      "outputs": []
    },
    {
      "cell_type": "markdown",
      "metadata": {
        "id": "7sbs3RbjJbQe",
        "colab_type": "text"
      },
      "source": [
        "## 1.1.4 Variables and Looping!\n",
        "\n",
        "When you're dealing with data, you probably want to store it in some form. That's where variables come in.\n",
        "\n",
        "Oftentimes, you'll have large sets of data that you store in some sort of iterable object like a list. To be able to efficiently go through this data, you'll need to know how to iterate, or loop, through it."
      ]
    },
    {
      "cell_type": "markdown",
      "metadata": {
        "id": "QilRGw8SJ9Ge",
        "colab_type": "text"
      },
      "source": [
        "### 1.1.4.1 Variables\n",
        "\n",
        "Variable names cannot start with a number, but other than that you can basically name a variable whatever you want unless its a reserved keyword in Python. "
      ]
    },
    {
      "cell_type": "code",
      "metadata": {
        "id": "b13k0L1_Jwkh",
        "colab_type": "code",
        "colab": {}
      },
      "source": [
        "listy = [1, 2, 3]"
      ],
      "execution_count": 27,
      "outputs": []
    },
    {
      "cell_type": "code",
      "metadata": {
        "id": "wWfTy2KVKHlZ",
        "colab_type": "code",
        "colab": {}
      },
      "source": [
        "x = 2"
      ],
      "execution_count": 28,
      "outputs": []
    },
    {
      "cell_type": "code",
      "metadata": {
        "id": "5gsm91_UKIhy",
        "colab_type": "code",
        "colab": {}
      },
      "source": [
        "y = 4"
      ],
      "execution_count": 29,
      "outputs": []
    },
    {
      "cell_type": "code",
      "metadata": {
        "id": "_tIaW-7GKI_5",
        "colab_type": "code",
        "colab": {}
      },
      "source": [
        "m = 2"
      ],
      "execution_count": 30,
      "outputs": []
    },
    {
      "cell_type": "code",
      "metadata": {
        "id": "1rSNEPJ4KJlp",
        "colab_type": "code",
        "colab": {}
      },
      "source": [
        "b = 0"
      ],
      "execution_count": 31,
      "outputs": []
    },
    {
      "cell_type": "markdown",
      "metadata": {
        "id": "DJZtwCu5KPbQ",
        "colab_type": "text"
      },
      "source": [
        "You should notice that when you're declaring variables, the values aren't automatically printed out. To output the values, you can either just type the name of a variable in a cell and run it and have it be the last line in a cell, or you can use the `print()` function."
      ]
    },
    {
      "cell_type": "code",
      "metadata": {
        "id": "XVrUsvyTKKER",
        "colab_type": "code",
        "colab": {
          "base_uri": "https://localhost:8080/",
          "height": 34
        },
        "outputId": "80a39e29-9a7a-4806-f0eb-9ecc6bfa06bd"
      },
      "source": [
        "b"
      ],
      "execution_count": 32,
      "outputs": [
        {
          "output_type": "execute_result",
          "data": {
            "text/plain": [
              "0"
            ]
          },
          "metadata": {
            "tags": []
          },
          "execution_count": 32
        }
      ]
    },
    {
      "cell_type": "code",
      "metadata": {
        "id": "mX-hLljnLiDf",
        "colab_type": "code",
        "colab": {
          "base_uri": "https://localhost:8080/",
          "height": 34
        },
        "outputId": "ab584e64-7e8b-42f6-a2b7-a93d07b4bff4"
      },
      "source": [
        "print(x)"
      ],
      "execution_count": 33,
      "outputs": [
        {
          "output_type": "stream",
          "text": [
            "2\n"
          ],
          "name": "stdout"
        }
      ]
    },
    {
      "cell_type": "code",
      "metadata": {
        "id": "5QS4C32ILi-Z",
        "colab_type": "code",
        "colab": {
          "base_uri": "https://localhost:8080/",
          "height": 34
        },
        "outputId": "36216d1a-0e8f-4a41-c715-6f7d08eee379"
      },
      "source": [
        "a = 1\n",
        "a"
      ],
      "execution_count": 34,
      "outputs": [
        {
          "output_type": "execute_result",
          "data": {
            "text/plain": [
              "1"
            ]
          },
          "metadata": {
            "tags": []
          },
          "execution_count": 34
        }
      ]
    },
    {
      "cell_type": "markdown",
      "metadata": {
        "id": "l3gYimESLvAp",
        "colab_type": "text"
      },
      "source": [
        "### 1.1.4.2 Loops!\n",
        "\n",
        "The following section will discuss for and while loops. They're great for looping through data!"
      ]
    },
    {
      "cell_type": "code",
      "metadata": {
        "id": "8Vjs7144Lq-x",
        "colab_type": "code",
        "colab": {
          "base_uri": "https://localhost:8080/",
          "height": 187
        },
        "outputId": "c57275fc-4718-4ab8-eaee-318a5a0cf798"
      },
      "source": [
        "for x in range(10):\n",
        "    print(x)"
      ],
      "execution_count": 35,
      "outputs": [
        {
          "output_type": "stream",
          "text": [
            "0\n",
            "1\n",
            "2\n",
            "3\n",
            "4\n",
            "5\n",
            "6\n",
            "7\n",
            "8\n",
            "9\n"
          ],
          "name": "stdout"
        }
      ]
    },
    {
      "cell_type": "markdown",
      "metadata": {
        "id": "5YDDOwBDM0LV",
        "colab_type": "text"
      },
      "source": [
        "The above is a `for enum in range` loop. As you might have guessed the `range()` function when given a single number will go from 0 up to that number, exclusive. For more information about the range function, I suggest you look at the Python documentation."
      ]
    },
    {
      "cell_type": "code",
      "metadata": {
        "id": "8zT_3GukMyZJ",
        "colab_type": "code",
        "colab": {
          "base_uri": "https://localhost:8080/",
          "height": 68
        },
        "outputId": "5f37d55d-004d-487b-b704-04ee71a14ba3"
      },
      "source": [
        "for thingy in listy:\n",
        "    print(thingy)"
      ],
      "execution_count": 36,
      "outputs": [
        {
          "output_type": "stream",
          "text": [
            "1\n",
            "2\n",
            "3\n"
          ],
          "name": "stdout"
        }
      ]
    },
    {
      "cell_type": "markdown",
      "metadata": {
        "id": "fO4zJtXBOnJ4",
        "colab_type": "text"
      },
      "source": [
        "The above is a loop that goes through every item in the `listy` list and then prints it out. You can do any number of things when you're iterating through the list, including editing the values and applying the same operation to each of them."
      ]
    },
    {
      "cell_type": "markdown",
      "metadata": {
        "id": "c_JJA4OXQ4xW",
        "colab_type": "text"
      },
      "source": [
        "Another type of the loop is the while loop. It follows the basic format of\n",
        "```python3\n",
        "while(statement):\n",
        "    code block\n",
        "```\n",
        "While the statement is true, the code block will keep runnning."
      ]
    },
    {
      "cell_type": "code",
      "metadata": {
        "id": "S5NC-q3tOlqv",
        "colab_type": "code",
        "colab": {
          "base_uri": "https://localhost:8080/",
          "height": 187
        },
        "outputId": "592cbf4e-cc51-44e7-ef1f-1af1eaefc6c7"
      },
      "source": [
        "x = 10\n",
        "while(x > 0):\n",
        "    print(x)\n",
        "    x -= 1"
      ],
      "execution_count": 37,
      "outputs": [
        {
          "output_type": "stream",
          "text": [
            "10\n",
            "9\n",
            "8\n",
            "7\n",
            "6\n",
            "5\n",
            "4\n",
            "3\n",
            "2\n",
            "1\n"
          ],
          "name": "stdout"
        }
      ]
    },
    {
      "cell_type": "markdown",
      "metadata": {
        "id": "dkZdZjIMR_Sw",
        "colab_type": "text"
      },
      "source": [
        "In the above cell, we create a variable `x` and then a while loop that will print out x, and subtract 1 from x as long as x is greater than 0. One might use a loop like this to remove items from a list until only a certain number of items remain."
      ]
    },
    {
      "cell_type": "markdown",
      "metadata": {
        "id": "S8HVGg_FS8q0",
        "colab_type": "text"
      },
      "source": [
        "## 1.1.5 Conditional Statements\n",
        "\n",
        "This section will cover if, else, and elif statements which are essential in any programming language."
      ]
    },
    {
      "cell_type": "code",
      "metadata": {
        "id": "rga16yoOR9WZ",
        "colab_type": "code",
        "colab": {
          "base_uri": "https://localhost:8080/",
          "height": 34
        },
        "outputId": "df9eceae-fcf4-4fe4-f08d-acbdeb8302bd"
      },
      "source": [
        "if 1 in listy:\n",
        "    print(0)"
      ],
      "execution_count": 38,
      "outputs": [
        {
          "output_type": "stream",
          "text": [
            "0\n"
          ],
          "name": "stdout"
        }
      ]
    },
    {
      "cell_type": "code",
      "metadata": {
        "id": "yY6GUVlvTwoN",
        "colab_type": "code",
        "colab": {
          "base_uri": "https://localhost:8080/",
          "height": 34
        },
        "outputId": "f093818b-3642-446f-b74b-b6d7c6ad2048"
      },
      "source": [
        "if 10 in listy:\n",
        "    print(\"10 is in listy\")\n",
        "else:\n",
        "    print(\"10 is not in listy\")"
      ],
      "execution_count": 39,
      "outputs": [
        {
          "output_type": "stream",
          "text": [
            "10 is not in listy\n"
          ],
          "name": "stdout"
        }
      ]
    },
    {
      "cell_type": "code",
      "metadata": {
        "id": "0EVgA9L9T2xb",
        "colab_type": "code",
        "colab": {
          "base_uri": "https://localhost:8080/",
          "height": 34
        },
        "outputId": "4f8c63e2-e8e0-41b3-c3b2-aa2a44c66927"
      },
      "source": [
        "if 1+1==2:\n",
        "    print(\"1+1 equals 2\")\n",
        "else:\n",
        "    print(\"1+1 does not equal 2\")"
      ],
      "execution_count": 40,
      "outputs": [
        {
          "output_type": "stream",
          "text": [
            "1+1 equals 2\n"
          ],
          "name": "stdout"
        }
      ]
    },
    {
      "cell_type": "code",
      "metadata": {
        "id": "kK7gKiszT-Cs",
        "colab_type": "code",
        "colab": {
          "base_uri": "https://localhost:8080/",
          "height": 51
        },
        "outputId": "f57d3ec9-cf4d-4c3d-a8fb-897297adcf9e"
      },
      "source": [
        "choice = input()\n",
        "if int(choice) == 1:\n",
        "    print(\"You Win\")\n",
        "elif int(choice) == 2:\n",
        "    print(\"You exist\")\n",
        "else:\n",
        "    print(\"You Lose\")"
      ],
      "execution_count": 42,
      "outputs": [
        {
          "output_type": "stream",
          "text": [
            "2\n",
            "You Win\n"
          ],
          "name": "stdout"
        }
      ]
    },
    {
      "cell_type": "markdown",
      "metadata": {
        "id": "0JCMt30rUiph",
        "colab_type": "text"
      },
      "source": [
        "Let's take a look at the above code cells. The first one checks to see if the 1 is in the list listy (which it is), and if it is, it prints out 0.\n",
        "\n",
        "The second code cell checks to see if 10 is in listy, and if it is print out 10 is in listy otherwise it prints out 10 is not in listy.\n",
        "\n",
        "The fourth cell uses the input() function to take in the user's input and if it is 1 they win. if it is 2 they exist, and otherwise they lose.\n",
        "\n",
        "The difference between an if and elif statement is that an elif statement is only checked if the if statement's condition is false. \n",
        "\n",
        "An else statement's code block is only executed if every other conditional is false."
      ]
    },
    {
      "cell_type": "markdown",
      "metadata": {
        "id": "1EzciBawWWqg",
        "colab_type": "text"
      },
      "source": [
        "## 1.1.6 Writing your own Functions\n",
        "\n",
        "Sometimes, you need to write your own functions to do cool things. Thankfully, Python makes that easy!"
      ]
    },
    {
      "cell_type": "code",
      "metadata": {
        "id": "qJdRBgXMWf2f",
        "colab_type": "code",
        "colab": {}
      },
      "source": [
        "def isEven(n):\n",
        "    if n%2 == 0:\n",
        "        return True\n",
        "    else:\n",
        "        return False"
      ],
      "execution_count": 43,
      "outputs": []
    },
    {
      "cell_type": "code",
      "metadata": {
        "id": "7_6KRw5_WklI",
        "colab_type": "code",
        "colab": {
          "base_uri": "https://localhost:8080/",
          "height": 34
        },
        "outputId": "7f8adb54-419e-4c7f-e31e-4998d9b343ce"
      },
      "source": [
        "isEven(8)"
      ],
      "execution_count": 44,
      "outputs": [
        {
          "output_type": "execute_result",
          "data": {
            "text/plain": [
              "True"
            ]
          },
          "metadata": {
            "tags": []
          },
          "execution_count": 44
        }
      ]
    },
    {
      "cell_type": "code",
      "metadata": {
        "id": "Rd0aCp6sWn0E",
        "colab_type": "code",
        "colab": {
          "base_uri": "https://localhost:8080/",
          "height": 34
        },
        "outputId": "33a753fe-02a5-403b-8a08-da81f025180b"
      },
      "source": [
        "isEven(3)"
      ],
      "execution_count": 45,
      "outputs": [
        {
          "output_type": "execute_result",
          "data": {
            "text/plain": [
              "False"
            ]
          },
          "metadata": {
            "tags": []
          },
          "execution_count": 45
        }
      ]
    }
  ]
}